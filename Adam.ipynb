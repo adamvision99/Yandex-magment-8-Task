{
 "cells": [
  {
   "cell_type": "code",
   "execution_count": 31,
   "id": "32c6c71f",
   "metadata": {},
   "outputs": [],
   "source": [
    "import pandas as pd"
   ]
  },
  {
   "cell_type": "code",
   "execution_count": 32,
   "id": "9752993d",
   "metadata": {},
   "outputs": [],
   "source": [
    "data = pd.read_csv('shmya_final_version.csv')"
   ]
  },
  {
   "cell_type": "code",
   "execution_count": 33,
   "id": "bb658625",
   "metadata": {},
   "outputs": [
    {
     "data": {
      "text/plain": [
       "584.8973714953271"
      ]
     },
     "execution_count": 33,
     "metadata": {},
     "output_type": "execute_result"
    }
   ],
   "source": [
    "data[data['cutlery'] > 2]['order_price'].mean()"
   ]
  },
  {
   "cell_type": "code",
   "execution_count": 34,
   "id": "360a0919",
   "metadata": {},
   "outputs": [
    {
     "data": {
      "text/plain": [
       "641.3240461004812"
      ]
     },
     "execution_count": 34,
     "metadata": {},
     "output_type": "execute_result"
    }
   ],
   "source": [
    "data[data['cutlery'] <= 2]['order_price'].mean()"
   ]
  },
  {
   "cell_type": "code",
   "execution_count": 35,
   "id": "e2b4cd60",
   "metadata": {},
   "outputs": [],
   "source": [
    "data = data[data['cutlery'] > 2]"
   ]
  },
  {
   "cell_type": "code",
   "execution_count": 36,
   "id": "c0ff5cb6",
   "metadata": {},
   "outputs": [],
   "source": [
    "data = data[(data.date < '2022-01-01') | (data.date > '2022-01-10')]"
   ]
  },
  {
   "cell_type": "code",
   "execution_count": 37,
   "id": "a0d655f5",
   "metadata": {},
   "outputs": [],
   "source": [
    "data = data[data.order_price > 800]"
   ]
  },
  {
   "cell_type": "code",
   "execution_count": 38,
   "id": "9926fbe4",
   "metadata": {},
   "outputs": [
    {
     "data": {
      "text/html": [
       "<div>\n",
       "<style scoped>\n",
       "    .dataframe tbody tr th:only-of-type {\n",
       "        vertical-align: middle;\n",
       "    }\n",
       "\n",
       "    .dataframe tbody tr th {\n",
       "        vertical-align: top;\n",
       "    }\n",
       "\n",
       "    .dataframe thead th {\n",
       "        text-align: right;\n",
       "    }\n",
       "</style>\n",
       "<table border=\"1\" class=\"dataframe\">\n",
       "  <thead>\n",
       "    <tr style=\"text-align: right;\">\n",
       "      <th></th>\n",
       "      <th>date</th>\n",
       "      <th>cutlery</th>\n",
       "      <th>tips</th>\n",
       "      <th>order_price</th>\n",
       "      <th>uid</th>\n",
       "      <th>order_id</th>\n",
       "    </tr>\n",
       "  </thead>\n",
       "  <tbody>\n",
       "    <tr>\n",
       "      <th>0</th>\n",
       "      <td>2022-01-17 06:38:43</td>\n",
       "      <td>3</td>\n",
       "      <td>100</td>\n",
       "      <td>1001</td>\n",
       "      <td>120967</td>\n",
       "      <td>73041443</td>\n",
       "    </tr>\n",
       "    <tr>\n",
       "      <th>18</th>\n",
       "      <td>2022-01-26 13:48:12</td>\n",
       "      <td>3</td>\n",
       "      <td>150</td>\n",
       "      <td>1097</td>\n",
       "      <td>255228</td>\n",
       "      <td>33800999</td>\n",
       "    </tr>\n",
       "    <tr>\n",
       "      <th>23</th>\n",
       "      <td>2022-01-26 13:22:38</td>\n",
       "      <td>4</td>\n",
       "      <td>140</td>\n",
       "      <td>1161</td>\n",
       "      <td>781632</td>\n",
       "      <td>56865155</td>\n",
       "    </tr>\n",
       "    <tr>\n",
       "      <th>46</th>\n",
       "      <td>2022-01-14 11:48:06</td>\n",
       "      <td>3</td>\n",
       "      <td>80</td>\n",
       "      <td>1009</td>\n",
       "      <td>638996</td>\n",
       "      <td>88412506</td>\n",
       "    </tr>\n",
       "    <tr>\n",
       "      <th>52</th>\n",
       "      <td>2022-01-31 17:21:48</td>\n",
       "      <td>3</td>\n",
       "      <td>110</td>\n",
       "      <td>861</td>\n",
       "      <td>686259</td>\n",
       "      <td>39708422</td>\n",
       "    </tr>\n",
       "    <tr>\n",
       "      <th>...</th>\n",
       "      <td>...</td>\n",
       "      <td>...</td>\n",
       "      <td>...</td>\n",
       "      <td>...</td>\n",
       "      <td>...</td>\n",
       "      <td>...</td>\n",
       "    </tr>\n",
       "    <tr>\n",
       "      <th>26027</th>\n",
       "      <td>2022-01-25 04:18:43</td>\n",
       "      <td>3</td>\n",
       "      <td>80</td>\n",
       "      <td>841</td>\n",
       "      <td>739019</td>\n",
       "      <td>85117758</td>\n",
       "    </tr>\n",
       "    <tr>\n",
       "      <th>26033</th>\n",
       "      <td>2022-01-14 07:05:08</td>\n",
       "      <td>3</td>\n",
       "      <td>90</td>\n",
       "      <td>985</td>\n",
       "      <td>540487</td>\n",
       "      <td>87039706</td>\n",
       "    </tr>\n",
       "    <tr>\n",
       "      <th>26034</th>\n",
       "      <td>2022-01-19 15:07:15</td>\n",
       "      <td>3</td>\n",
       "      <td>160</td>\n",
       "      <td>1202</td>\n",
       "      <td>117066</td>\n",
       "      <td>95916480</td>\n",
       "    </tr>\n",
       "    <tr>\n",
       "      <th>26038</th>\n",
       "      <td>2022-01-23 09:11:45</td>\n",
       "      <td>4</td>\n",
       "      <td>140</td>\n",
       "      <td>892</td>\n",
       "      <td>958020</td>\n",
       "      <td>31282164</td>\n",
       "    </tr>\n",
       "    <tr>\n",
       "      <th>26043</th>\n",
       "      <td>2022-01-31 18:36:03</td>\n",
       "      <td>4</td>\n",
       "      <td>20</td>\n",
       "      <td>942</td>\n",
       "      <td>908699</td>\n",
       "      <td>78733530</td>\n",
       "    </tr>\n",
       "  </tbody>\n",
       "</table>\n",
       "<p>3387 rows × 6 columns</p>\n",
       "</div>"
      ],
      "text/plain": [
       "                      date  cutlery  tips  order_price     uid  order_id\n",
       "0      2022-01-17 06:38:43        3   100         1001  120967  73041443\n",
       "18     2022-01-26 13:48:12        3   150         1097  255228  33800999\n",
       "23     2022-01-26 13:22:38        4   140         1161  781632  56865155\n",
       "46     2022-01-14 11:48:06        3    80         1009  638996  88412506\n",
       "52     2022-01-31 17:21:48        3   110          861  686259  39708422\n",
       "...                    ...      ...   ...          ...     ...       ...\n",
       "26027  2022-01-25 04:18:43        3    80          841  739019  85117758\n",
       "26033  2022-01-14 07:05:08        3    90          985  540487  87039706\n",
       "26034  2022-01-19 15:07:15        3   160         1202  117066  95916480\n",
       "26038  2022-01-23 09:11:45        4   140          892  958020  31282164\n",
       "26043  2022-01-31 18:36:03        4    20          942  908699  78733530\n",
       "\n",
       "[3387 rows x 6 columns]"
      ]
     },
     "execution_count": 38,
     "metadata": {},
     "output_type": "execute_result"
    }
   ],
   "source": [
    "data"
   ]
  },
  {
   "cell_type": "code",
   "execution_count": 39,
   "id": "8642e73a",
   "metadata": {},
   "outputs": [
    {
     "data": {
      "text/plain": [
       "3387"
      ]
     },
     "execution_count": 39,
     "metadata": {},
     "output_type": "execute_result"
    }
   ],
   "source": [
    "data.shape[0]"
   ]
  }
 ],
 "metadata": {
  "kernelspec": {
   "display_name": "Python 3 (ipykernel)",
   "language": "python",
   "name": "python3"
  },
  "language_info": {
   "codemirror_mode": {
    "name": "ipython",
    "version": 3
   },
   "file_extension": ".py",
   "mimetype": "text/x-python",
   "name": "python",
   "nbconvert_exporter": "python",
   "pygments_lexer": "ipython3",
   "version": "3.9.7"
  }
 },
 "nbformat": 4,
 "nbformat_minor": 5
}
